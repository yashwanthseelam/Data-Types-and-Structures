{
  "nbformat": 4,
  "nbformat_minor": 0,
  "metadata": {
    "colab": {
      "provenance": []
    },
    "kernelspec": {
      "name": "python3",
      "display_name": "Python 3"
    },
    "language_info": {
      "name": "python"
    }
  },
  "cells": [
    {
      "cell_type": "markdown",
      "source": [
        "#Data Types and Structures\n",
        "\n"
      ],
      "metadata": {
        "id": "txyY8fRGFnGP"
      }
    },
    {
      "cell_type": "markdown",
      "source": [
        "1. What are data structures, and why are they important\n",
        "  ->Data structure is the way we organize the data to store , maniculate and acces the data.\n",
        "\n",
        "2. Explain the difference between mutable and immutable data types with examples  \n",
        "  ->Mutable Data Types: Once we can create the object, we will change the content based on our requirments.\n",
        "   ->The address will be change after the change's.\n",
        "   ->Ex:List,set\n",
        "  ->Immutable Data Types: Once we can create the object ,we will not change the content.\n",
        "  ->If we change the content the new object will created with different address.\n",
        "  ->Ex:Tuple\n",
        "\n",
        "3. What are the main differences between lists and tuples in Python\n",
        "  ->If we want to represent group of values in a single entity ,duplicates are allowed,hetrogenious objects are allowed and mutable then we should go for List\n",
        "  ->List is Mutable,Dynamic.\n",
        "  ->List is not used for dictionary key's\n",
        "  ->If we want to represent group of values in a single entity ,hetrogenious objects are allowed ,duplicates are allowed and it is immutable\n",
        "  ->Tuple is Immutable,not Dynamic\n",
        "  ->Tuple is used for dictionary key's\n",
        "\n",
        "4. Describe how dictionaries store data\n",
        "  ->If we want to represent values as key-value pairs then we should go for dictionary\n",
        " ->dictionary data can be stored in curly brackets in key-value pairs.\n",
        " ->dictionary keys are immutable\n",
        " ->dictionary values are mutable\n",
        "\n",
        "5. Why might you use a set instead of a list in Python\n",
        " ->If we want to represent group of values in single entity,duplicates are not allowed,hetrogenous objects are allowed\n",
        "\n",
        "6. What is a string in Python, and how is it different from a list\n",
        "  ->String can be represented as single and double quotes.\n",
        "  ->String is a Immutable\n",
        "  ->List is Mutble.\n",
        "\n",
        "7. How do tuples ensure data integrity in Python\n",
        "  -> tuple can ensure the data is inside the parathesis and it is mutable\n",
        "  ->Tuple can have duplicate values and indexing is possible.\n",
        "\n",
        "8.  What is a hash table, and how does it relate to dictionaries in Python\n",
        " ->hash table is datastructure quick access of data ,deleting and retrieval of data.\n",
        " ->If we want to represent the data as key-value pairs,were keys doesn't allow duplicates and values are allowed duplicate.keys are use's immutable because of keys can't accept the duplicate.\n",
        "\n",
        "9. Can lists contain different data types in Python\n",
        " ->Yes list can store the hetrogenous objects.i,e string,bool,complex,int,float\n",
        "\n",
        "10.  Explain why strings are immutable in Python\n",
        "  ->Strings are immutable because of strings are inbuilt data type's.String can store one value to one variable.\n",
        "\n",
        "11.  What advantages do dictionaries offer over lists for certain tasks\n",
        "  ->Dictionaries excel over lists for tasks involving quick data lookups and storing data as key-value pairs, offering faster retrieval and more organized data representation.\n",
        "\n",
        "12.  Describe a scenario where using a tuple would be preferable over a list\n",
        "  ->Tuple can used over where the data is fixed ,we can go with tuple.\n",
        "  ->Ex:Employee Id,pancard Number,etc\n",
        "  ->Dictionaries keys are used Tuple only .It is because of the keys are immutable.\n",
        "\n",
        "13.  How do sets handle duplicate values in Python\n",
        "  ->If we want to represent the group of unique values in a single entity then we should go for set.\n",
        "\n",
        "14. How does the “in” keyword work differently for lists and dictionaries\n",
        "  ->'in' keyword is membership operator it is used to check the values present in the data.In list only values are present but in dictionary values are present as key-value pair.\n",
        "\n",
        "15. Can you modify the elements of a tuple? Explain why or why not\n",
        " ->No we can't modify the elements in tuple.if we modify elements the new tuple object will be created.Tuple is immutable.\n",
        "\n",
        "16. What is a nested dictionary, and give an example of its use case\n",
        "  ->A nested dictionary is a dictionary where the values are themselves dictionaries, allowing for a hierarchical data structure.\n",
        "\n",
        "17. Describe the time complexity of accessing elements in a dictionary\n",
        "  ->Accessing elements in a dictionary (or hash map) by key has an average time complexity of O(1), meaning it takes constant time, regardless of the dictionary's size.\n",
        "  \n",
        "18.  In what situations are lists preferred over dictionaries\n",
        "  ->Lsts are preferred over dictionaries when the order of items is crucial, when you need to store a sequence of elements, or when you primarily need to access elements by their position (index) rather than a key.\n",
        "\n",
        "19. Why are dictionaries considered unordered, and how does that affect data retrieval\n",
        "\n",
        "20. Explain the difference between a list and a dictionary in terms of data\n",
        "retrieval.\n",
        " ->List: List is mutable,it can stores the values,it can represented with in square brackets.\n",
        " ->Dictionary: Dictionary keys are immutable,Dictionary values are mutable,it can be represented in curly braces as key-value pairs.\n"
      ],
      "metadata": {
        "id": "ievti1ZvvILs"
      }
    },
    {
      "cell_type": "markdown",
      "source": [],
      "metadata": {
        "id": "F2OJSZx10gQM"
      }
    },
    {
      "cell_type": "markdown",
      "source": [],
      "metadata": {
        "id": "3_0QijDiGdd-"
      }
    },
    {
      "cell_type": "code",
      "source": [
        "# Write a code to create a string with your name and print it\n",
        "name = \"Seelam Yashwanth Anjaneya Reddy\"\n",
        "print(name)"
      ],
      "metadata": {
        "colab": {
          "base_uri": "https://localhost:8080/"
        },
        "id": "JP6iNRI4F6UZ",
        "outputId": "d1f715ac-5f81-4a5d-a4fa-9eaf5b59477e"
      },
      "execution_count": null,
      "outputs": [
        {
          "output_type": "stream",
          "name": "stdout",
          "text": [
            "Seelam Yashwanth Anjaneya Reddy\n"
          ]
        }
      ]
    },
    {
      "cell_type": "code",
      "execution_count": null,
      "metadata": {
        "id": "uHttlNIfFkiD",
        "colab": {
          "base_uri": "https://localhost:8080/"
        },
        "outputId": "d9344847-340c-405f-ffce-62b0b59aab3c"
      },
      "outputs": [
        {
          "output_type": "stream",
          "name": "stdout",
          "text": [
            "11\n"
          ]
        }
      ],
      "source": [
        "# Write a code to find the length of the string \"Hello World\"\n",
        "print(len(\"Hello World\"))"
      ]
    },
    {
      "cell_type": "code",
      "source": [
        "# Write a code to slice the first 3 characters from the string \"Python Programming\"\n",
        "print(\"Python Programming\"[:3])"
      ],
      "metadata": {
        "colab": {
          "base_uri": "https://localhost:8080/"
        },
        "id": "dZpmfhRrGuzr",
        "outputId": "8f1ec670-21e0-4eaf-9d63-cc1c0896f47c"
      },
      "execution_count": null,
      "outputs": [
        {
          "output_type": "stream",
          "name": "stdout",
          "text": [
            "Pyt\n"
          ]
        }
      ]
    },
    {
      "cell_type": "code",
      "source": [
        "# Write a code to convert the string \"hello\" to uppercase\n",
        "print(\"hello\".upper())\n"
      ],
      "metadata": {
        "colab": {
          "base_uri": "https://localhost:8080/"
        },
        "id": "QHu43hGJJ3N2",
        "outputId": "a501dc5c-3bba-427c-d635-19e0d2b607f7"
      },
      "execution_count": null,
      "outputs": [
        {
          "output_type": "stream",
          "name": "stdout",
          "text": [
            "HELLO\n"
          ]
        }
      ]
    },
    {
      "cell_type": "code",
      "source": [
        "# Write a code to replace the word \"apple\" with \"orange\" in the string\n",
        "print(\"I like apple\".replace(\"apple\",\"orange\"))"
      ],
      "metadata": {
        "colab": {
          "base_uri": "https://localhost:8080/"
        },
        "id": "mrbbuS5tKHS-",
        "outputId": "55af9701-8f00-450a-d536-5c80f70a9a53"
      },
      "execution_count": null,
      "outputs": [
        {
          "output_type": "stream",
          "name": "stdout",
          "text": [
            "I like orange\n"
          ]
        }
      ]
    },
    {
      "cell_type": "code",
      "source": [
        "# Write a code to create a list with numbers 1 to 5 and print it\n",
        "numbers = [1,2,3,4,5]\n",
        "for i in numbers:\n",
        "  print(i)"
      ],
      "metadata": {
        "colab": {
          "base_uri": "https://localhost:8080/"
        },
        "id": "sjfBCAD9Kknt",
        "outputId": "884dbec4-ae27-439a-d2d5-e1cff2f46d39"
      },
      "execution_count": null,
      "outputs": [
        {
          "output_type": "stream",
          "name": "stdout",
          "text": [
            "1\n",
            "2\n",
            "3\n",
            "4\n",
            "5\n"
          ]
        }
      ]
    },
    {
      "cell_type": "code",
      "source": [
        "#Write a code to append the number 10 to the list [1, 2, 3, 4]\n",
        "numbers = [1,2,3,4]\n",
        "numbers.append(10)"
      ],
      "metadata": {
        "id": "h3GiW4HFLEXt"
      },
      "execution_count": null,
      "outputs": []
    },
    {
      "cell_type": "code",
      "source": [
        "# Write a code to remove the number 3 from the list [1, 2, 3, 4, 5]\n",
        "numbers = [1,2,3,4,5]\n",
        "numbers.remove(3)"
      ],
      "metadata": {
        "id": "w2raPiP0L10R"
      },
      "execution_count": null,
      "outputs": []
    },
    {
      "cell_type": "code",
      "source": [
        "#Write a code to access the second element in the list ['a', 'b', 'c', 'd']\n",
        "data = ['a','b','c','d']\n",
        "data[1]"
      ],
      "metadata": {
        "colab": {
          "base_uri": "https://localhost:8080/",
          "height": 36
        },
        "id": "EAm6R4bwMXZK",
        "outputId": "37b99b54-0053-4c42-8309-c7847cccff04"
      },
      "execution_count": null,
      "outputs": [
        {
          "output_type": "execute_result",
          "data": {
            "text/plain": [
              "'b'"
            ],
            "application/vnd.google.colaboratory.intrinsic+json": {
              "type": "string"
            }
          },
          "metadata": {},
          "execution_count": 25
        }
      ]
    },
    {
      "cell_type": "code",
      "source": [
        "#Write a code to reverse the list [10, 20, 30, 40, 50].\n",
        "numbers = [10 ,20 ,30, 40,50]\n",
        "numbers.reverse()"
      ],
      "metadata": {
        "id": "4KnvHUSYMzpj"
      },
      "execution_count": null,
      "outputs": []
    },
    {
      "cell_type": "code",
      "source": [
        "# Write a code to create a tuple with the elements 100, 200, 300 and print it.\n",
        "numbers = (100 , 200 ,300)\n",
        "print(numbers)"
      ],
      "metadata": {
        "colab": {
          "base_uri": "https://localhost:8080/"
        },
        "id": "G1lvpzcyNDIj",
        "outputId": "abc72bc0-f74a-418b-e233-dbdc9a08bdcd"
      },
      "execution_count": null,
      "outputs": [
        {
          "output_type": "stream",
          "name": "stdout",
          "text": [
            "(100, 200, 300)\n"
          ]
        }
      ]
    },
    {
      "cell_type": "code",
      "source": [
        "# Write a code to access the second-to-last element of the tuple ('red', 'green', 'blue', 'yellow').\n",
        "data = ('red', 'green', 'blue', 'yellow')\n",
        "data[1:]"
      ],
      "metadata": {
        "colab": {
          "base_uri": "https://localhost:8080/"
        },
        "id": "DG_Mr_aSNhAB",
        "outputId": "2939696a-b8dc-4ced-e47b-8ce4c214a015"
      },
      "execution_count": null,
      "outputs": [
        {
          "output_type": "execute_result",
          "data": {
            "text/plain": [
              "('green', 'blue', 'yellow')"
            ]
          },
          "metadata": {},
          "execution_count": 31
        }
      ]
    },
    {
      "cell_type": "code",
      "source": [
        "# Write a code to find the minimum number in the tuple (10, 20, 5, 15).\n",
        "numbers = (10 , 20, 5, 15)\n",
        "min(numbers)"
      ],
      "metadata": {
        "colab": {
          "base_uri": "https://localhost:8080/"
        },
        "id": "Y4Q5cROoN7YK",
        "outputId": "f6934708-9aff-4e46-e8d2-f5ed11d75b9d"
      },
      "execution_count": null,
      "outputs": [
        {
          "output_type": "execute_result",
          "data": {
            "text/plain": [
              "5"
            ]
          },
          "metadata": {},
          "execution_count": 35
        }
      ]
    },
    {
      "cell_type": "code",
      "source": [
        "# Write a code to find the index of the element \"cat\" in the tuple ('dog', 'cat', 'rabbit').\n",
        "animals = ('dog', 'cat', 'rabbit')\n",
        "animals.index(\"cat\")"
      ],
      "metadata": {
        "colab": {
          "base_uri": "https://localhost:8080/"
        },
        "id": "wgFMcg-3OQPj",
        "outputId": "ebd0cd11-f1e4-4f51-8d88-fa4e921f01d2"
      },
      "execution_count": null,
      "outputs": [
        {
          "output_type": "execute_result",
          "data": {
            "text/plain": [
              "1"
            ]
          },
          "metadata": {},
          "execution_count": 37
        }
      ]
    },
    {
      "cell_type": "code",
      "source": [
        "\n",
        "# Write a code to create a tuple containing three different fruits and check if \"kiwi\" is in it.\n",
        "fruits = (\"apple\" , \"mango\" , 'kiwi')\n",
        "'kiwi' in fruits"
      ],
      "metadata": {
        "colab": {
          "base_uri": "https://localhost:8080/"
        },
        "id": "G5K3RszpOxgQ",
        "outputId": "34e92deb-fe0e-4739-880b-dc7cfcada498"
      },
      "execution_count": null,
      "outputs": [
        {
          "output_type": "execute_result",
          "data": {
            "text/plain": [
              "True"
            ]
          },
          "metadata": {},
          "execution_count": 39
        }
      ]
    },
    {
      "cell_type": "code",
      "source": [
        "# Write a code to create a set with the elements 'a', 'b', 'c' and print it.\n",
        "alphabets = {'a' , 'b' , 'c', 'd'}\n",
        "print(alphabets)"
      ],
      "metadata": {
        "colab": {
          "base_uri": "https://localhost:8080/"
        },
        "id": "-T6X8G1vPSty",
        "outputId": "93e91727-5bd0-432d-8a72-ff5333abd984"
      },
      "execution_count": null,
      "outputs": [
        {
          "output_type": "stream",
          "name": "stdout",
          "text": [
            "{'b', 'd', 'a', 'c'}\n"
          ]
        }
      ]
    },
    {
      "cell_type": "code",
      "source": [
        "# Write a code to clear all elements from the set {1, 2, 3, 4, 5}.\n",
        "numbers = {1, 2, 3, 4, 5}\n",
        "numbers.clear()"
      ],
      "metadata": {
        "id": "AYdSX6tDPusG"
      },
      "execution_count": null,
      "outputs": []
    },
    {
      "cell_type": "code",
      "source": [
        "# Write a code to remove the element 4 from the set {1, 2, 3, 4}.\n",
        "numbers = {1, 2, 3, 4}\n",
        "numbers.remove(4)\n",
        "numbers"
      ],
      "metadata": {
        "colab": {
          "base_uri": "https://localhost:8080/"
        },
        "id": "OMWt69FrP9M4",
        "outputId": "eb426290-1993-40ed-95d0-4df1979df42a"
      },
      "execution_count": null,
      "outputs": [
        {
          "output_type": "execute_result",
          "data": {
            "text/plain": [
              "{1, 2, 3}"
            ]
          },
          "metadata": {},
          "execution_count": 43
        }
      ]
    },
    {
      "cell_type": "code",
      "source": [
        "# Write a code to find the union of two sets {1, 2, 3} and {3, 4, 5}.\n",
        "set1 = {1, 2, 3}\n",
        "set2 = {3, 4, 5}\n",
        "print(set1 | set2)"
      ],
      "metadata": {
        "colab": {
          "base_uri": "https://localhost:8080/"
        },
        "id": "mnaHZEF8QL9w",
        "outputId": "ea322a40-6715-45df-ec7f-cecc415b7891"
      },
      "execution_count": null,
      "outputs": [
        {
          "output_type": "stream",
          "name": "stdout",
          "text": [
            "{1, 2, 3, 4, 5}\n"
          ]
        }
      ]
    },
    {
      "cell_type": "code",
      "source": [
        "# Write a code to find the intersection of two sets {1, 2, 3} and {2, 3, 4}\n",
        "set1 = {1 , 2, 3}\n",
        "set2 = {2, 3, 4}\n",
        "set1 & set2"
      ],
      "metadata": {
        "colab": {
          "base_uri": "https://localhost:8080/"
        },
        "id": "7q__CNv3QpNY",
        "outputId": "c8cb4ec6-e985-424e-b882-05236ea658f0"
      },
      "execution_count": null,
      "outputs": [
        {
          "output_type": "execute_result",
          "data": {
            "text/plain": [
              "{2, 3}"
            ]
          },
          "metadata": {},
          "execution_count": 45
        }
      ]
    },
    {
      "cell_type": "code",
      "source": [
        "# Write a code to create a dictionary with the keys \"name\", \"age\", and \"city\", and print it.\n",
        "details = {\"name\":\"Yashwanth Reddy Seelam\",\"age\":27, \"city\":\"Sathupally\"}\n",
        "details"
      ],
      "metadata": {
        "colab": {
          "base_uri": "https://localhost:8080/"
        },
        "id": "oEF17UWHRMSx",
        "outputId": "c08e4a94-7eac-46c7-bd3e-9421806de32a"
      },
      "execution_count": null,
      "outputs": [
        {
          "output_type": "execute_result",
          "data": {
            "text/plain": [
              "{'name': 'Yashwanth Reddy Seelam', 'age': 27, 'city': 'Sathupally'}"
            ]
          },
          "metadata": {},
          "execution_count": 46
        }
      ]
    },
    {
      "cell_type": "code",
      "source": [
        "# Write a code to add a new key-value pair \"country\": \"USA\" to the dictionary {'name': 'John', 'age': 25}.\n",
        "details = {'name': 'John', 'age': 25}\n",
        "details.update({\"country\":\"USA\"})"
      ],
      "metadata": {
        "id": "xllDioDhSIH0"
      },
      "execution_count": null,
      "outputs": []
    },
    {
      "cell_type": "code",
      "source": [
        "# Write a code to access the value associated with the key \"name\" in the dictionary {'name': 'Alice', 'age': 30}.\n",
        "details = {'name': 'Alice', 'age': 30}\n",
        "details.get('name')"
      ],
      "metadata": {
        "colab": {
          "base_uri": "https://localhost:8080/",
          "height": 36
        },
        "id": "g_PQylIxSjSK",
        "outputId": "aa94d28e-ab49-4c20-e5d6-b4ce5afa963b"
      },
      "execution_count": null,
      "outputs": [
        {
          "output_type": "execute_result",
          "data": {
            "text/plain": [
              "'Alice'"
            ],
            "application/vnd.google.colaboratory.intrinsic+json": {
              "type": "string"
            }
          },
          "metadata": {},
          "execution_count": 50
        }
      ]
    },
    {
      "cell_type": "code",
      "source": [
        "# Write a code to remove the key \"age\" from the dictionary {'name': 'Bob', 'age': 22, 'city': 'New York'}.\n",
        "details = {'name': 'Bob', 'age': 22, 'city': 'New York'}\n",
        "details.pop('name')"
      ],
      "metadata": {
        "colab": {
          "base_uri": "https://localhost:8080/",
          "height": 36
        },
        "id": "Lj1zfr6vS6c4",
        "outputId": "e5ca4145-8573-4890-a270-2f933be7e5aa"
      },
      "execution_count": null,
      "outputs": [
        {
          "output_type": "execute_result",
          "data": {
            "text/plain": [
              "'Bob'"
            ],
            "application/vnd.google.colaboratory.intrinsic+json": {
              "type": "string"
            }
          },
          "metadata": {},
          "execution_count": 51
        }
      ]
    },
    {
      "cell_type": "code",
      "source": [
        "# Write a code to check if the key \"city\" exists in the dictionary {'name': 'Alice', 'city': 'Paris'}.\n",
        "details = {'name': 'Alice', 'city': 'Paris'}\n",
        "if 'city' in details.keys():\n",
        "  print(\"It is available\")"
      ],
      "metadata": {
        "colab": {
          "base_uri": "https://localhost:8080/"
        },
        "id": "APgZBtVnTMa5",
        "outputId": "372ed756-dd8f-4280-901a-e72fd96ca1c2"
      },
      "execution_count": null,
      "outputs": [
        {
          "output_type": "stream",
          "name": "stdout",
          "text": [
            "It is available\n"
          ]
        }
      ]
    },
    {
      "cell_type": "code",
      "source": [
        "#  Write a code to create a list, a tuple, and a dictionary, and print them all\n",
        "list_numbers = [10,20,30,40,50]\n",
        "tuple_numbers = (10,20,40,30,40)\n",
        "dictionary_details= {1:\"yashwanth\",2:\"Sravanthi\",3:\"Meenaskhi\"}\n",
        "print(list_numbers)\n",
        "print(tuple_numbers)\n",
        "print(dictionary_details)\n",
        "\n"
      ],
      "metadata": {
        "colab": {
          "base_uri": "https://localhost:8080/"
        },
        "id": "ODKd1NbnTrJl",
        "outputId": "8735d093-1ba9-443d-c25f-3698aeeaae69"
      },
      "execution_count": null,
      "outputs": [
        {
          "output_type": "stream",
          "name": "stdout",
          "text": [
            "[10, 20, 30, 40, 50]\n",
            "(10, 20, 40, 30, 40)\n",
            "{1: 'yashwanth', 2: 'Sravanthi', 3: 'Meenaskhi'}\n"
          ]
        }
      ]
    },
    {
      "cell_type": "code",
      "source": [
        "# Write a code to create a list of 5 random numbers between 1 and 100, sort it in ascending order, and print the\n",
        "result.(replaced)\n",
        "list_numbers = [30,52,87,10,77]\n",
        "list_numbers.sort(reverse=True)\n",
        "print(list_numbers)"
      ],
      "metadata": {
        "colab": {
          "base_uri": "https://localhost:8080/"
        },
        "id": "hq6hqp6uUMei",
        "outputId": "f8f4d166-b7bc-4bbc-9a82-a37221f049f3"
      },
      "execution_count": null,
      "outputs": [
        {
          "output_type": "stream",
          "name": "stdout",
          "text": [
            "[87, 77, 52, 30, 10]\n"
          ]
        }
      ]
    },
    {
      "cell_type": "code",
      "source": [
        " #Write a code to create a list with strings and print the element at the third index.\n",
        " name = \"Seelam Yashawanth Anjaneaya Reddy\"\n",
        " list_names=name.split()\n",
        " list_names[3]"
      ],
      "metadata": {
        "colab": {
          "base_uri": "https://localhost:8080/",
          "height": 36
        },
        "id": "-2ZyPVyDWcPl",
        "outputId": "6f1292b5-a1ce-497e-8a9e-437f8f181970"
      },
      "execution_count": null,
      "outputs": [
        {
          "output_type": "execute_result",
          "data": {
            "text/plain": [
              "'Reddy'"
            ],
            "application/vnd.google.colaboratory.intrinsic+json": {
              "type": "string"
            }
          },
          "metadata": {},
          "execution_count": 65
        }
      ]
    },
    {
      "cell_type": "code",
      "source": [
        "# Write a code to combine two dictionaries into one and print the result.\n",
        "dictionary1 ={'name':\"Seelam Yashwanth\",\"number\": 8523083333}\n",
        "dictionary2 = {\"city\": \"Sathupally\",\"state\":\"Telangana\"}\n",
        "dictionary1.update(dictionary2)\n",
        "dictionary1"
      ],
      "metadata": {
        "colab": {
          "base_uri": "https://localhost:8080/"
        },
        "id": "6drAfRxMXN3H",
        "outputId": "b5caafe1-462e-470c-f5e3-551986faef77"
      },
      "execution_count": null,
      "outputs": [
        {
          "output_type": "execute_result",
          "data": {
            "text/plain": [
              "{'name': 'Seelam Yashwanth',\n",
              " 'number': 8523083333,\n",
              " 'city': 'Sathupally',\n",
              " 'state': 'Telangana'}"
            ]
          },
          "metadata": {},
          "execution_count": 68
        }
      ]
    },
    {
      "cell_type": "code",
      "source": [
        "# Write a code to convert a list of strings into a set.\n",
        "list_names=[\"Yashwanth\",\"Sravanthi\",\"Sarina\",\"Poojitha\"]\n",
        "set_names=set(list_names)\n",
        "print(set_names)"
      ],
      "metadata": {
        "colab": {
          "base_uri": "https://localhost:8080/"
        },
        "id": "Jhx9zC14YTgb",
        "outputId": "35d932bb-207e-4272-c1a4-559fb5f87031"
      },
      "execution_count": null,
      "outputs": [
        {
          "output_type": "stream",
          "name": "stdout",
          "text": [
            "{'Sarina', 'Poojitha', 'Sravanthi', 'Yashwanth'}\n"
          ]
        }
      ]
    },
    {
      "cell_type": "code",
      "source": [],
      "metadata": {
        "id": "ceGuc-iDaZqI"
      },
      "execution_count": null,
      "outputs": []
    }
  ]
}